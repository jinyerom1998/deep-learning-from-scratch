{
 "cells": [
  {
   "attachments": {},
   "cell_type": "markdown",
   "metadata": {},
   "source": [
    "# 2장 - 퍼셉트론\n",
    "신경망(딥러닝)의 기원이 되는 알고리즘."
   ]
  },
  {
   "attachments": {},
   "cell_type": "markdown",
   "metadata": {},
   "source": [
    "### 퍼셉트론이란?\n",
    "다수의 신호를 입력으로 받아 하나의 신호를 출력한다.\n",
    "이 때, 신호는 흐른다(1)/안 흐른다(0)의 두 가지 값 중 하나만 가진다.\n",
    "\n",
    "![입력이 2개인 퍼셉트론](%ED%8D%BC%EC%85%89%ED%8A%B8%EB%A1%A0.png)\n",
    "\n",
    "그림은 입력으로 2개의 신호를 받은 퍼셉트론의 예이다.\n",
    "x1, x2는 입력신호, y는 출력신호, w1, w2는 가중치이다.\n",
    "그림의 원을 뉴런 혹은 노드라고 부른다.\n",
    "입력 신호가 뉴런에 보내질 때는 각각 고유한 가중치가 곱해진다.(w1x1, w2x2)\n",
    "뉴런에서 보내온 신호의 총합이 정해진 한계(임계값, θ)를 넘어설 때만 1을 출력한다.(=\"뉴런이 활성화한다.\"고 표현하기도 함)\n",
    "\n",
    "이상을 수식으로 나타내면 다음과 같다.\n",
    "\n",
    "![퍼셉트론 수식](퍼셉트론수식.png)\n",
    "\n",
    "퍼셉트론은 복수의 입력 신호 각각에 고유한 가중치를 부여한다.\n",
    "가중치는 각 신호가 결과에 주는 영향력을 조절하는 요소로 작용한다.\n",
    "즉, 가중치가 클수록 해당 신호가 그만큼 더 중요함을 뜻한다."
   ]
  },
  {
   "attachments": {},
   "cell_type": "markdown",
   "metadata": {},
   "source": [
    "### 단순한 논리 회로\n",
    "(1) AND 게이트\n",
    "입력이 둘이고 출력이 하나이다.\n",
    "입력이 모두 1일 때만 1을 출력하고, 그 외에는 0을 출력한다.\n",
    "다음은 AND 게이트의 진리표다.\n",
    "\n",
    "![AND 게이트의 진리표](andgate.png)\n",
    "\n",
    "이 AND 게이트를 퍼셉트론으로 표현하고자 한다면, 이 진리표대로 작동하는 w1, w2, θ 값을 정하면 된다.\n",
    "(w1, w2, θ)의 예시: (0.5, 0.5, 0.7), (0.5, 0.5, 0.8), (1.0, 1.0, 1.0)\n",
    "\n",
    "(2) NAND 게이트\n",
    "NAND 게이트는 Not AND 게이트를 말한다. 즉, AND 게이트의 출력을 뒤집은 것을 동작한다.\n",
    "x1, x2가 모두 1일 때만 0을 출력하고, 그 외에는 1을 출력한다.\n",
    "다음은 NAND 게이트의 진리표다.\n",
    "\n",
    "![NAND 게이트의 진리표](nandgate.png)\n",
    "\n",
    "NAND 게이트를 표현하는 (w1, w2, θ)의 예시: (-0.5, -0.5, -0.7)\n",
    "이 외에도 AND  게이트를 구현하는 매개변수의 부호를 모두 반전한 것 등이 있다.\n",
    "\n",
    "(3) OR 게이트\n",
    "OR 게이트는 입력 신호 중 하나 이상이 1이면 출력이 1이 되는 논리 회로이다.\n",
    "OR 게이트의 진리표는 다음과 같다.\n",
    "![OR 게이트의 진리표](orgate.png)"
   ]
  },
  {
   "attachments": {},
   "cell_type": "markdown",
   "metadata": {},
   "source": [
    "**퍼셉트론의 구조는 AND, NAND, OR 게이트 모두에서 똑같다.**\n",
    "*다른 것은 오직 매개변수(가중치와 임계값) 뿐이다.*"
   ]
  },
  {
   "attachments": {},
   "cell_type": "markdown",
   "metadata": {},
   "source": [
    "### 퍼셉트론 구현하기\n",
    "(1) 간단한 구현부터"
   ]
  },
  {
   "cell_type": "code",
   "execution_count": 2,
   "metadata": {},
   "outputs": [],
   "source": [
    "def AND(x1, x2):\n",
    "    w1, w2, theta = 0.5, 0.5, 0.7\n",
    "    tmp = x1*w1 + x2*w2\n",
    "    if tmp <= theta:\n",
    "        return 0\n",
    "    elif tmp > theta:\n",
    "        return 1"
   ]
  },
  {
   "cell_type": "code",
   "execution_count": 3,
   "metadata": {},
   "outputs": [
    {
     "data": {
      "text/plain": [
       "0"
      ]
     },
     "execution_count": 3,
     "metadata": {},
     "output_type": "execute_result"
    }
   ],
   "source": [
    "AND(0, 0)"
   ]
  },
  {
   "cell_type": "code",
   "execution_count": 4,
   "metadata": {},
   "outputs": [
    {
     "data": {
      "text/plain": [
       "0"
      ]
     },
     "execution_count": 4,
     "metadata": {},
     "output_type": "execute_result"
    }
   ],
   "source": [
    "AND(1, 0)"
   ]
  },
  {
   "cell_type": "code",
   "execution_count": 5,
   "metadata": {},
   "outputs": [
    {
     "data": {
      "text/plain": [
       "0"
      ]
     },
     "execution_count": 5,
     "metadata": {},
     "output_type": "execute_result"
    }
   ],
   "source": [
    "AND(0, 1)"
   ]
  },
  {
   "cell_type": "code",
   "execution_count": 6,
   "metadata": {},
   "outputs": [
    {
     "data": {
      "text/plain": [
       "1"
      ]
     },
     "execution_count": 6,
     "metadata": {},
     "output_type": "execute_result"
    }
   ],
   "source": [
    "AND(1, 1)"
   ]
  },
  {
   "attachments": {},
   "cell_type": "markdown",
   "metadata": {},
   "source": [
    "(2) 가중치와 편향 도입\n",
    "\n",
    "θ를 -b로 치환하면 퍼셉트론의 동작이 다음과 같이 변환된다.\n",
    "\n",
    "![퍼셉트론 수식2](퍼셉트론수식2.png)\n",
    "\n",
    "여기서 b를 편향이라 하며, w1과 w2는 여전히 가중치이다.\n",
    "이 관점에서 보면, 퍼셉트론은 입력신호에 가중치를 곱한 값과 편향을 합하여, 그 값이 0을 넘으면 1을 출력하고 그렇지 않으면 0을 출력한다."
   ]
  },
  {
   "cell_type": "code",
   "execution_count": 7,
   "metadata": {},
   "outputs": [],
   "source": [
    "import numpy as np\n",
    "x = np.array([0, 1]) # 입력\n",
    "w = np.array([0.5, 0.5]) # 가중치\n",
    "b = -0.7"
   ]
  },
  {
   "cell_type": "code",
   "execution_count": 8,
   "metadata": {},
   "outputs": [
    {
     "data": {
      "text/plain": [
       "array([0. , 0.5])"
      ]
     },
     "execution_count": 8,
     "metadata": {},
     "output_type": "execute_result"
    }
   ],
   "source": [
    "w*x"
   ]
  },
  {
   "cell_type": "code",
   "execution_count": 9,
   "metadata": {},
   "outputs": [
    {
     "data": {
      "text/plain": [
       "0.5"
      ]
     },
     "execution_count": 9,
     "metadata": {},
     "output_type": "execute_result"
    }
   ],
   "source": [
    "np.sum(w*x)"
   ]
  },
  {
   "cell_type": "code",
   "execution_count": 11,
   "metadata": {},
   "outputs": [
    {
     "data": {
      "text/plain": [
       "-0.19999999999999996"
      ]
     },
     "execution_count": 11,
     "metadata": {},
     "output_type": "execute_result"
    }
   ],
   "source": [
    "np.sum(w*x) + b # 대략 -0.2"
   ]
  },
  {
   "attachments": {},
   "cell_type": "markdown",
   "metadata": {},
   "source": [
    "(3) 가중치와 편향 구현하기\n",
    "\n",
    "'가중치와 편향을 도입'한 AND 게이트는 다음과 같이 구현할 수 있다."
   ]
  },
  {
   "cell_type": "code",
   "execution_count": 12,
   "metadata": {},
   "outputs": [],
   "source": [
    "def AND(x1, x2):\n",
    "    x = np.array([x1, x2])\n",
    "    w = np.array([0.5, 0.5]) # 가중치: 각 입력 신호가 결과에 주는 영향력(중요도)을 조절하는 매개변수\n",
    "    b = -0.7 # 편향: 뉴런이 얼마나 쉽게 활성화(결과로 1을 출력)하느냐를 조정하는 매개변수\n",
    "    tmp = np.sum(w*x) + b\n",
    "    if tmp <= 0:\n",
    "        return 0\n",
    "    else:\n",
    "        return 1"
   ]
  },
  {
   "cell_type": "code",
   "execution_count": 15,
   "metadata": {},
   "outputs": [],
   "source": [
    "def NAND(x1, x2):\n",
    "    x = np.array([x1, x2])\n",
    "    w = np.array([-0.5, -0.5])\n",
    "    b = 0.7\n",
    "    tmp = np.sum(w*x) + b\n",
    "    if tmp <= 0:\n",
    "        return 0\n",
    "    else:\n",
    "        return 1\n",
    "    \n",
    "def OR(x1, x2):\n",
    "    x = np.array([x1, x2])\n",
    "    w = np.array([0.5, 0.5])\n",
    "    b = -0.2\n",
    "    tmp = np.sum(w*x) + b\n",
    "    if tmp <= 0:\n",
    "        return 0\n",
    "    else:\n",
    "        return 1"
   ]
  },
  {
   "attachments": {},
   "cell_type": "markdown",
   "metadata": {},
   "source": [
    "### 퍼셉트론의 한계\n",
    "(1) XOR 게이트(배타적 논리합이라고 하는 논리회로)\n",
    "\n",
    "x1과 x2 중 한쪽이 1일 때만 1을 출력한다.\n",
    "\n",
    "![XOR 게이트의 진리표](xorgate.png)\n",
    "\n",
    "지금까지 본 퍼셉트론으로는 이 XOR 게이트를 구현할 수 없다.\n",
    "\n",
    "OR 게이트는 가중치 매개변수가 (b, w1, w2) = (-0.5, 1.0, 1.0)일 때 진리표를 만족한다.\n",
    "\n",
    "이때의 퍼셉트론은 다음의 식으로 표현될 수 있으며, 그래프로 표현하면 그 옆의 그래프와 같다.\n",
    "\n",
    "![OR 게이트 식](orgate2.png)\n",
    "![OR 게이트 그래프](orgate3.png)\n",
    "\n",
    "회색 영역은 0을 출력하는 영역이며, 전체 영역은 OR 게이트의 성질을 만족한다.\n",
    "\n",
    "OR 게이트는 (x1, x2) = (0, 0)일 때 0을 출력하고 (0, 1), (1, 0), (1, 1)일 때는 1을 출력한다.\n",
    "\n",
    "그림에서는 0을 동그라미, 1을 세모로 표시했다.\n",
    "\n",
    "OR 게이트를 만들려면 이 그래프와 같이 동그라미와 세모를 직선으로 나눠야 한다.\n",
    "\n",
    "XOR 게이트는 OR 게이트 때처럼 직선 하나로 동그라미와 세모를 나누는 영역을 만들어낼 수 없다.\n",
    "\n",
    "XOR 게이트의 동그라미와 세모 분포가 다음과 같기 때문이다.\n",
    "\n",
    "![XOR 게이트 그래프](xorgate2.png)\n",
    "\n",
    "(2) 선형과 비선형\n",
    "\n",
    "직선이 아닌 곡선이라면 다음과 같이 구현 가능해 진다.\n",
    "\n",
    "![XOR 게이트 그래프2](xorgate3.png)\n",
    "\n",
    "**퍼셉트론은 직선 하나로 나눈 영역만 표현할 수 있다는 한계가 있다.**\n",
    "\n",
    "*XOR 게이트 그래프 같은 경우의 곡선 영역을 **비선형 영역**이라고 한다.*\n",
    "\n",
    "*그 외 게이트 그래프 같은 경우의 직선 영역을 **선형 영역**이라고 한다.*\n",
    "\n",
    "앞으로 기계학습 분야에서 만날 선형, 비선형이라는 말은 여기 그래프를 생각하면 된다."
   ]
  },
  {
   "attachments": {},
   "cell_type": "markdown",
   "metadata": {},
   "source": [
    "### 다층 퍼셉트론이 출동한다면\n",
    "'층을 쌓아' **다층 퍼셉트론**을 만들면 XOR 게이트도 표현 가능하다.\n",
    "\n",
    "(1) 기존 게이트 조합하기\n",
    "\n",
    "앞서 만든 AND, NAND, OR 게이트를 조합하면 XOR 게이트를 만드는 것이 가능하다.\n",
    "\n",
    "![AND, NAND, OR 게이트 기호](기호.jpg)\n",
    "![XOR 게이트](xorgate4.png)\n",
    "\n",
    "왼편 그림은 게이트들의 기호 도식화이고, 오른편 그림은 도식을 활용해 표현한 XOR 게이트다.\n",
    "\n",
    "x1, x2는 NAND와 OR 게이트의 입력이 되고,\n",
    "\n",
    "NAND와 OR 게이트의 출력이 AND 게이트의 입력으로 이어진다.\n",
    "\n",
    "NAND의 출력을 s1, OR의 출력을 s2로 해서 진리표를 만들면 다음과 같다.\n",
    "\n",
    "![XOR 게이트 진리표](xor진리표.png)\n",
    "\n",
    "x1, x2, y에 주목하면 진리표가 참임을 알 수 있다."
   ]
  },
  {
   "attachments": {},
   "cell_type": "markdown",
   "metadata": {},
   "source": [
    "(2) XOR 게이트 구현하기"
   ]
  },
  {
   "cell_type": "code",
   "execution_count": 16,
   "metadata": {},
   "outputs": [],
   "source": [
    "def XOR(x1, x2):\n",
    "    s1 = NAND(x1, x2)\n",
    "    s2 = OR(x1, x2)\n",
    "    y = AND(s1, s2)\n",
    "    return y"
   ]
  },
  {
   "cell_type": "code",
   "execution_count": 17,
   "metadata": {},
   "outputs": [
    {
     "data": {
      "text/plain": [
       "0"
      ]
     },
     "execution_count": 17,
     "metadata": {},
     "output_type": "execute_result"
    }
   ],
   "source": [
    "XOR(0, 0)"
   ]
  },
  {
   "cell_type": "code",
   "execution_count": 18,
   "metadata": {},
   "outputs": [
    {
     "data": {
      "text/plain": [
       "1"
      ]
     },
     "execution_count": 18,
     "metadata": {},
     "output_type": "execute_result"
    }
   ],
   "source": [
    "XOR(1, 0)"
   ]
  },
  {
   "cell_type": "code",
   "execution_count": 19,
   "metadata": {},
   "outputs": [
    {
     "data": {
      "text/plain": [
       "1"
      ]
     },
     "execution_count": 19,
     "metadata": {},
     "output_type": "execute_result"
    }
   ],
   "source": [
    "XOR(0, 1)"
   ]
  },
  {
   "cell_type": "code",
   "execution_count": 20,
   "metadata": {},
   "outputs": [
    {
     "data": {
      "text/plain": [
       "0"
      ]
     },
     "execution_count": 20,
     "metadata": {},
     "output_type": "execute_result"
    }
   ],
   "source": [
    "XOR(1, 1)"
   ]
  },
  {
   "attachments": {},
   "cell_type": "markdown",
   "metadata": {},
   "source": [
    "지금 구현한 XOR을 뉴런을 이용한 퍼셉트론으로 표현하면 다음과 같다.\n",
    "\n",
    "![XOR 퍼셉트론](xor퍼셉트론.png)\n",
    "\n",
    "이처럼 XOR은 다층 구조의 네트워크이다.\n",
    "\n",
    "이처럼 층이 여러 개인 퍼셉트론을 다층 퍼셉트론이라 한다.\n",
    "\n",
    "이 동작의 작동 프로세스는 다음과 같다.\n",
    "1. 0층의 두 뉴런이 입력 신호를 받아 1층의 뉴런으로 신호를 보낸다.\n",
    "2. 1층의 뉴런이 2층의 뉴런으로 신호를 보내고, 2층의 뉴런은 y를 출력한다."
   ]
  }
 ],
 "metadata": {
  "kernelspec": {
   "display_name": "base",
   "language": "python",
   "name": "python3"
  },
  "language_info": {
   "codemirror_mode": {
    "name": "ipython",
    "version": 3
   },
   "file_extension": ".py",
   "mimetype": "text/x-python",
   "name": "python",
   "nbconvert_exporter": "python",
   "pygments_lexer": "ipython3",
   "version": "3.10.9"
  },
  "orig_nbformat": 4
 },
 "nbformat": 4,
 "nbformat_minor": 2
}
